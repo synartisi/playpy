{
 "cells": [
  {
   "cell_type": "markdown",
   "id": "31815f87-3980-4030-a41d-989b35dea214",
   "metadata": {},
   "source": [
    "# 22. 편미방_Wave"
   ]
  },
  {
   "cell_type": "code",
   "execution_count": 9,
   "id": "8bad8e08-df64-40a6-96ea-660453cd577f",
   "metadata": {},
   "outputs": [],
   "source": [
    "import numpy as np\n",
    "import matplotlib.pyplot as plt\n",
    "np.set_printoptions(precision=4)"
   ]
  },
  {
   "cell_type": "markdown",
   "id": "7f9f85d8-eab9-47be-b7f3-b81fde0773e1",
   "metadata": {},
   "source": [
    "$$\\frac {\\partial^2 u} {\\partial x^2} = \\frac {\\partial^2 u} {\\partial t^2}$$\n",
    "- 함수값 경계 조건 및 초기 조건과 초기 속도(도함수)가 주어진 경우<br>\n",
    "$$u(0,t)=0, \\;\\; u(\\pi,t)=0$$<br>\n",
    "$$u(x,0) = \\begin {bmatrix} x & 0 < x < \\frac {\\pi}{2} \\\\ \\pi - x & \\frac {\\pi}{2} < x <\\pi \\end {bmatrix}, \\;\\; \\frac {\\partial u}{\\partial t}(x,0) = 0$$"
   ]
  },
  {
   "cell_type": "code",
   "execution_count": 87,
   "id": "db2857c7-e8bf-4040-9faa-d21f6bc3c1ff",
   "metadata": {},
   "outputs": [
    {
     "name": "stdout",
     "output_type": "stream",
     "text": [
      "0.10132118364233779\n"
     ]
    }
   ],
   "source": [
    "c = 1\n",
    "\n",
    "x = np.linspace(0, np.pi, 81)\n",
    "h = x[1]-x[0]\n",
    "\n",
    "tf = 2\n",
    "n_time = 160\n",
    "k = tf/n_time\n",
    "\n",
    "lam2 = (c*k/h)**2\n",
    "print(lam2)"
   ]
  },
  {
   "cell_type": "markdown",
   "id": "117eaa2c-331f-49bd-b2d7-f5eb966752f6",
   "metadata": {},
   "source": [
    "- u에 초기값과 경계조건 부여"
   ]
  },
  {
   "cell_type": "code",
   "execution_count": 90,
   "id": "b0d8febe-ac4b-4239-8654-819ab5b87887",
   "metadata": {},
   "outputs": [
    {
     "name": "stdout",
     "output_type": "stream",
     "text": [
      "[0.     0.0393 0.0785 0.1178 0.1571 0.1963 0.2356 0.2749 0.3142 0.3534\n",
      " 0.3927 0.432  0.4712 0.5105 0.5498 0.589  0.6283 0.6676 0.7069 0.7461\n",
      " 0.7854 0.8247 0.8639 0.9032 0.9425 0.9817 1.021  1.0603 1.0996 1.1388\n",
      " 1.1781 1.2174 1.2566 1.2959 1.3352 1.3744 1.4137 1.453  1.4923 1.5315\n",
      " 1.5708 1.5315 1.4923 1.453  1.4137 1.3744 1.3352 1.2959 1.2566 1.2174\n",
      " 1.1781 1.1388 1.0996 1.0603 1.021  0.9817 0.9425 0.9032 0.8639 0.8247\n",
      " 0.7854 0.7461 0.7069 0.6676 0.6283 0.589  0.5498 0.5105 0.4712 0.432\n",
      " 0.3927 0.3534 0.3142 0.2749 0.2356 0.1963 0.1571 0.1178 0.0785 0.0393\n",
      " 0.    ]\n"
     ]
    }
   ],
   "source": [
    "#u = np.zeros(x.shape)\n",
    "u = np.piecewise(x, [x < np.pi/2, x >= np.pi/2], [lambda x: x, lambda x: np.pi - x])\n",
    "print(u)\n",
    "\n",
    "u_next = np.zeros(u.shape)\n",
    "u_old = np.zeros(u.shape)"
   ]
  },
  {
   "cell_type": "markdown",
   "id": "dfbaba10-2af1-48a9-8b2f-3bd3997be6a5",
   "metadata": {},
   "source": [
    "- Finite difference 식에 따른 계산"
   ]
  },
  {
   "cell_type": "code",
   "execution_count": 93,
   "id": "d85471c6-3296-48a7-8596-76183c9b3bf3",
   "metadata": {},
   "outputs": [
    {
     "name": "stdout",
     "output_type": "stream",
     "text": [
      "1.999999999999995\n",
      "[ 0.     -0.041  -0.0806 -0.1196 -0.1558 -0.1888 -0.2288 -0.2819 -0.3326\n",
      " -0.3675 -0.3943 -0.4149 -0.4213 -0.4241 -0.4299 -0.4285 -0.4275 -0.4311\n",
      " -0.4282 -0.4286 -0.4309 -0.4275 -0.4302 -0.4293 -0.4281 -0.4308 -0.4276\n",
      " -0.4304 -0.4287 -0.429  -0.43   -0.428  -0.4306 -0.4277 -0.4307 -0.4278\n",
      " -0.4305 -0.428  -0.4303 -0.4281 -0.4302 -0.4281 -0.4303 -0.428  -0.4305\n",
      " -0.4278 -0.4307 -0.4277 -0.4306 -0.428  -0.43   -0.429  -0.4287 -0.4304\n",
      " -0.4276 -0.4308 -0.4281 -0.4293 -0.4302 -0.4275 -0.4309 -0.4286 -0.4282\n",
      " -0.4311 -0.4275 -0.4285 -0.4299 -0.4241 -0.4213 -0.4149 -0.3943 -0.3675\n",
      " -0.3326 -0.2819 -0.2288 -0.1888 -0.1558 -0.1196 -0.0806 -0.041   0.    ]\n"
     ]
    }
   ],
   "source": [
    "t = 0\n",
    "\n",
    "for it in range(0, n_time):\n",
    "    t += k\n",
    "    for ix in range(1, len(x)-1):\n",
    "        if it == 0:\n",
    "            u_next[ix] = lam2/2 * u[ix-1] + (1-lam2)*u[ix] + lam2/2*u[ix+1]\n",
    "        else:\n",
    "            u_next[ix] = lam2 * u[ix-1] + 2*(1-lam2)*u[ix] + lam2*u[ix+1] - u_old[ix]\n",
    "    u_old = np.copy(u)\n",
    "    u = np.copy(u_next)\n",
    "\n",
    "print(t)\n",
    "print(u)"
   ]
  },
  {
   "cell_type": "markdown",
   "id": "562d4dd9-9afb-4e6f-b806-1ba83e8a25e0",
   "metadata": {},
   "source": [
    "- 이론해 계산"
   ]
  },
  {
   "cell_type": "code",
   "execution_count": 96,
   "id": "f525b918-f0a0-458a-a814-78a1b602344e",
   "metadata": {},
   "outputs": [],
   "source": [
    "u_exact = np.zeros(u.shape)\n",
    "for n in range(1,80,2):\n",
    "    u_exact += 4/(np.pi * n**2) *np.sin(n*np.pi/2) * np.cos(n*c*tf)*np.sin(n*x)"
   ]
  },
  {
   "cell_type": "markdown",
   "id": "faf341f0-6877-47df-821c-b0e4d9ea3731",
   "metadata": {},
   "source": [
    "- 결과 비교"
   ]
  },
  {
   "cell_type": "code",
   "execution_count": 99,
   "id": "830dd4d7-c42e-47ef-967e-98abdbf1eaaf",
   "metadata": {},
   "outputs": [
    {
     "data": {
      "image/png": "[encoded data removed]",
      "text/plain": [
       "<Figure size 400x300 with 1 Axes>"
      ]
     },
     "metadata": {},
     "output_type": "display_data"
    }
   ],
   "source": [
    "plt.figure(figsize=(4,3))\n",
    "plt.plot(x, u_exact)\n",
    "plt.plot(x, u, \"o\", ms=1)\n",
    "plt.show()"
   ]
  },
  {
   "cell_type": "code",
   "execution_count": null,
   "id": "4501dc76-f28d-4883-ace7-90e532d9c2df",
   "metadata": {},
   "outputs": [],
   "source": []
  }
 ],
 "metadata": {
  "kernelspec": {
   "display_name": "Python 3 (ipykernel)",
   "language": "python",
   "name": "python3"
  },
  "language_info": {
   "codemirror_mode": {
    "name": "ipython",
    "version": 3
   },
   "file_extension": ".py",
   "mimetype": "text/x-python",
   "name": "python",
   "nbconvert_exporter": "python",
   "pygments_lexer": "ipython3",
   "version": "3.12.4"
  }
 },
 "nbformat": 4,
 "nbformat_minor": 5
}

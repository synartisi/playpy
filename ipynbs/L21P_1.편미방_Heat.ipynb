{
 "cells": [
  {
   "cell_type": "markdown",
   "id": "31815f87-3980-4030-a41d-989b35dea214",
   "metadata": {},
   "source": [
    "# 21. 편미방_Heat"
   ]
  },
  {
   "cell_type": "code",
   "execution_count": 15,
   "id": "3286b8a5-c98a-480e-bad2-147896736a3e",
   "metadata": {},
   "outputs": [],
   "source": [
    "import numpy as np\n",
    "import matplotlib.pyplot as plt\n",
    "np.set_printoptions(precision=4)"
   ]
  },
  {
   "cell_type": "markdown",
   "id": "2bebe8a0-7d8b-4da2-9141-4a66c2fb7a56",
   "metadata": {},
   "source": [
    "$$\\frac {\\partial^2 u} {\\partial x^2} = \\frac {\\partial u} {\\partial t}$$\n",
    "### 21.1 함수값 경계 조건 및 초기 조건\n",
    "$$u(0,t)=0,\\;\\;u(\\pi,t)=0,\\;\\;u(x,0)=100$$"
   ]
  },
  {
   "cell_type": "markdown",
   "id": "9f7f742b-d7d0-4b09-bc14-5a4bc70aaba3",
   "metadata": {},
   "source": [
    "- 풀이 구간 분할 및 time step 설정"
   ]
  },
  {
   "cell_type": "code",
   "execution_count": 31,
   "id": "bd5115a3-3e55-4557-a29a-97a2c95524c6",
   "metadata": {},
   "outputs": [
    {
     "name": "stdout",
     "output_type": "stream",
     "text": [
      "0.40528473456935116\n"
     ]
    }
   ],
   "source": [
    "c = 1\n",
    "\n",
    "x = np.linspace(0, np.pi, 21)\n",
    "h = x[1] - x[0]\n",
    "\n",
    "tf = 0.8\n",
    "n_time = 80\n",
    "k = tf/n_time\n",
    "\n",
    "lam = c*k/h**2\n",
    "print(lam)"
   ]
  },
  {
   "cell_type": "markdown",
   "id": "7285d623-db57-4b56-98ce-b653feffe4ed",
   "metadata": {},
   "source": [
    "- u에 초기값과 경계조건 부여"
   ]
  },
  {
   "cell_type": "code",
   "execution_count": 34,
   "id": "0e368a3c-ba50-4995-abab-4d857249f5ff",
   "metadata": {},
   "outputs": [],
   "source": [
    "u = np.full(x.shape, 100)\n",
    "u[0] = 0; u[-1] = 0\n",
    "\n",
    "u_next = np.zeros(u.shape)"
   ]
  },
  {
   "cell_type": "markdown",
   "id": "29cd14e1-363a-47b1-a6a6-a06604bb8a89",
   "metadata": {},
   "source": [
    "- Finite difference 식에 따른 계산"
   ]
  },
  {
   "cell_type": "code",
   "execution_count": 37,
   "id": "13b0e5c8-bf85-4787-bb62-9c1aa2dc3092",
   "metadata": {},
   "outputs": [
    {
     "name": "stdout",
     "output_type": "stream",
     "text": [
      "0.8000000000000005\n",
      "[ 0.      8.9217 17.6215 25.8834 33.5031 40.2932 46.0876 50.7457 54.155\n",
      " 56.2338 56.9322 56.2338 54.155  50.7457 46.0876 40.2932 33.5031 25.8834\n",
      " 17.6215  8.9217  0.    ]\n"
     ]
    }
   ],
   "source": [
    "t = 0\n",
    "\n",
    "for it in range(0, n_time):\n",
    "    t += k\n",
    "    for ix in range(1, len(x)-1):\n",
    "        u_next[ix] = lam * u[ix-1] + (1-2*lam) * u[ix] + lam * u[ix+1]\n",
    "    u = np.copy(u_next)\n",
    "\n",
    "print(t)\n",
    "print(u)"
   ]
  },
  {
   "cell_type": "markdown",
   "id": "65d41c4d-97d1-4524-b361-94eb2a2f8170",
   "metadata": {},
   "source": [
    "- 이론해 계산"
   ]
  },
  {
   "cell_type": "code",
   "execution_count": 40,
   "id": "3dbaa7be-0e8b-4546-a189-5558be625a19",
   "metadata": {},
   "outputs": [],
   "source": [
    "u_exact = np.zeros(u.shape)\n",
    "for n in range(1,20,2):\n",
    "    u_exact += 400/(np.pi*n) * np.exp(-(n**2) * tf) * np.sin(n*x)"
   ]
  },
  {
   "cell_type": "markdown",
   "id": "fc099662-e3c0-4231-8f42-7f2aedf58ca2",
   "metadata": {},
   "source": [
    "- 결과 비교"
   ]
  },
  {
   "cell_type": "code",
   "execution_count": 45,
   "id": "3fcfd44a-acf2-4175-8fbb-5c5f28b490ac",
   "metadata": {},
   "outputs": [
    {
     "data": {
      "image/png": "[encoded data removed]",
      "text/plain": [
       "<Figure size 400x300 with 1 Axes>"
      ]
     },
     "metadata": {},
     "output_type": "display_data"
    }
   ],
   "source": [
    "plt.figure(figsize = (4,3))\n",
    "plt.plot(x, u_exact)\n",
    "plt.plot(x, u, \"o\", ms=4)\n",
    "plt.show()"
   ]
  },
  {
   "cell_type": "markdown",
   "id": "9320ee6b-a619-44aa-b1c5-62f65476200c",
   "metadata": {},
   "source": [
    "### 21.2 도함수값 경계 조건 및 초기 조건\n",
    "$$u(0,t)=0,\\;\\;\\frac {\\partial u}{\\partial x} (\\pi,t) =0,\\;\\;u(x,0)=100$$\n",
    "- 풀이 구간 설정 및 분할"
   ]
  },
  {
   "cell_type": "code",
   "execution_count": 57,
   "id": "f7d45739-5e5b-49b9-898b-340f6f3033ee",
   "metadata": {},
   "outputs": [
    {
     "name": "stdout",
     "output_type": "stream",
     "text": [
      "0.40528473456935116\n"
     ]
    }
   ],
   "source": [
    "c = 1\n",
    "\n",
    "x = np.linspace(0, np.pi, 21)\n",
    "h = x[1] - x[0]\n",
    "\n",
    "tf = 0.8\n",
    "n_time = 80\n",
    "k = tf/n_time\n",
    "\n",
    "lam = c*k/h**2\n",
    "print(lam)"
   ]
  },
  {
   "cell_type": "markdown",
   "id": "b79e97f8-977f-491e-9725-2002a5be259c",
   "metadata": {},
   "source": [
    "- u에 초기값과 경계조건 부여"
   ]
  },
  {
   "cell_type": "code",
   "execution_count": 59,
   "id": "d0ddbf1d-5c3f-41a2-a3c6-ebd099020bb3",
   "metadata": {},
   "outputs": [],
   "source": [
    "u = np.full(x.shape, 100)\n",
    "u[0] = 0\n",
    "\n",
    "u_next = np.zeros(u.shape)"
   ]
  },
  {
   "cell_type": "markdown",
   "id": "84b55437-a0b6-4163-a70b-2907aa0cf48c",
   "metadata": {},
   "source": [
    "- Finite difference 식에 따른 계산"
   ]
  },
  {
   "cell_type": "code",
   "execution_count": 62,
   "id": "814a91b6-43fb-42e0-9220-d347d10b5127",
   "metadata": {},
   "outputs": [
    {
     "name": "stdout",
     "output_type": "stream",
     "text": [
      "0.8000000000000005\n",
      "[ 0.      9.8434 19.5383 28.9429 37.9281 46.3828 54.2177 61.3679 67.7936\n",
      " 73.4794 78.4321 82.6778 86.2576 89.2234 91.6331 93.5467 95.0215 96.1094\n",
      " 96.8538 97.287  97.4291]\n"
     ]
    }
   ],
   "source": [
    "t = 0\n",
    "\n",
    "for it in range(0, n_time):\n",
    "    t += k\n",
    "    for ix in range(1, len(x)):\n",
    "        if ix == len(x)-1:\n",
    "            u_next[ix] = 2*lam * u[ix-1] + (1-2*lam) * u[ix]\n",
    "        else:\n",
    "            u_next[ix] = lam * u[ix-1] + (1-2*lam) * u[ix] + lam * u[ix+1]\n",
    "    u = np.copy(u_next)\n",
    "\n",
    "print(t)\n",
    "print(u)"
   ]
  },
  {
   "cell_type": "markdown",
   "id": "911e74d3-5c46-425b-bab5-a2fb7fc36282",
   "metadata": {},
   "source": [
    "- 이론해 계산"
   ]
  },
  {
   "cell_type": "code",
   "execution_count": 65,
   "id": "50b73d25-c663-4cd6-95fd-65a78cb2d709",
   "metadata": {},
   "outputs": [],
   "source": [
    "u_exact = np.zeros(u.shape)\n",
    "for n in range(1,20):\n",
    "    nh = n-1/2\n",
    "    u_exact += 200/(np.pi*nh) * np.exp(-(nh**2) * tf) * np.sin(nh*x)"
   ]
  },
  {
   "cell_type": "markdown",
   "id": "394b99ad-e9dc-4625-9f5b-e4803061564d",
   "metadata": {},
   "source": [
    "- 결과 비교"
   ]
  },
  {
   "cell_type": "code",
   "execution_count": 68,
   "id": "f17483cc-d870-4849-8ef7-8021278f4522",
   "metadata": {},
   "outputs": [
    {
     "data": {
      "image/png": "[encoded data removed]",
      "text/plain": [
       "<Figure size 400x300 with 1 Axes>"
      ]
     },
     "metadata": {},
     "output_type": "display_data"
    }
   ],
   "source": [
    "plt.figure(figsize = (4,3))\n",
    "plt.plot(x, u_exact)\n",
    "plt.plot(x, u, \"o\", ms=4)\n",
    "plt.show()"
   ]
  }
 ],
 "metadata": {
  "kernelspec": {
   "display_name": "Python 3 (ipykernel)",
   "language": "python",
   "name": "python3"
  },
  "language_info": {
   "codemirror_mode": {
    "name": "ipython",
    "version": 3
   },
   "file_extension": ".py",
   "mimetype": "text/x-python",
   "name": "python",
   "nbconvert_exporter": "python",
   "pygments_lexer": "ipython3",
   "version": "3.12.4"
  }
 },
 "nbformat": 4,
 "nbformat_minor": 5
}
